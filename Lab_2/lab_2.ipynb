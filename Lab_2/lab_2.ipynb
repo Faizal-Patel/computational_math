{
 "cells": [
  {
   "cell_type": "markdown",
   "metadata": {},
   "source": [
    "# Lab 2: Root Finding"
   ]
  },
  {
   "cell_type": "code",
   "execution_count": 5,
   "metadata": {},
   "outputs": [],
   "source": [
    "import numpy as np\n",
    "import matplotlib.pyplot as plt"
   ]
  },
  {
   "cell_type": "markdown",
   "metadata": {},
   "source": [
    "## Newton's method"
   ]
  },
  {
   "cell_type": "markdown",
   "metadata": {},
   "source": [
    "### Exercise 1\n",
    "\n",
    "#### Part 1\n",
    "Write a function that take into argument a function, its derivative, an initial guess, a tolerance, a maximum number of iteration and return the zero of the function using Newton's method"
   ]
  },
  {
   "cell_type": "code",
   "execution_count": 30,
   "metadata": {},
   "outputs": [],
   "source": [
    "def newtons(f, Df, x0, tol, itmax):\n",
    "    xn = x0\n",
    "    for i in range(0, itmax):\n",
    "        x1 = xn - f(xn) / Df(xn)\n",
    "        t = abs(x1 - xn)\n",
    "        if t < tol:\n",
    "            print(\"\\nNumber of iterations: \", i)\n",
    "            break\n",
    "        xn = x1\n",
    "    return xn, i"
   ]
  },
  {
   "cell_type": "markdown",
   "metadata": {},
   "source": [
    "\n",
    "#### Part 2\n",
    "Test your Newton Function with a polynomial you know the root of."
   ]
  },
  {
   "cell_type": "code",
   "execution_count": 46,
   "metadata": {},
   "outputs": [
    {
     "name": "stdout",
     "output_type": "stream",
     "text": [
      "\n",
      "Number of iterations:  4\n",
      "The solution found is (2.577935474573519, 4)\n",
      "1.7763568394002505e-15\n"
     ]
    },
    {
     "data": {
      "image/png": "[encoded data removed]",
      "text/plain": [
       "<Figure size 432x288 with 1 Axes>"
      ]
     },
     "metadata": {
      "needs_background": "light"
     },
     "output_type": "display_data"
    }
   ],
   "source": [
    "f = lambda x: x**2 - ((2**(1/2))*x) - 3\n",
    "Df = lambda x: 2*x - (2**(1/2))\n",
    "daxe = newtons(f,Df,3,1e-8,10)\n",
    "print('The solution found is',daxe)\n",
    "\n",
    "gflop = 2.577935474573519**2 - ((2**(1/2))*2.577935474573519) - 3\n",
    "print(gflop)\n",
    "\n",
    "\n",
    "x = np.linspace(-3,3,100)\n",
    "plt.figure(1)\n",
    "plt.clf()\n",
    "plt.plot(x,f(x),label=\"F(x)\")\n",
    "plt.plot(x,f(x) == 0,label=\"F(x) = 0\")\n",
    "plt.legend()\n",
    "plt.show()\n"
   ]
  },
  {
   "cell_type": "code",
   "execution_count": 45,
   "metadata": {},
   "outputs": [
    {
     "name": "stdout",
     "output_type": "stream",
     "text": [
      "\n",
      "Number of iterations:  6\n",
      "The solution found is (3.749351468682373, 6)\n",
      "4.971401068587511e-11\n"
     ]
    },
    {
     "data": {
      "image/png": "[encoded data removed]",
      "text/plain": [
       "<Figure size 432x288 with 1 Axes>"
      ]
     },
     "metadata": {
      "needs_background": "light"
     },
     "output_type": "display_data"
    }
   ],
   "source": [
    "f = lambda x: np.exp(x) - (10*x) - 5\n",
    "Df = lambda x: np.exp(x) - 10\n",
    "axe = newtons(f,Df,3,1e-8,10)\n",
    "print('The solution found is',axe)\n",
    "\n",
    "lop = np.exp(-0.4352924604616433) - (10*-0.4352924604616433) - 5\n",
    "print(lop)\n",
    "\n",
    "\n",
    "x = np.linspace(-3,3,100)\n",
    "plt.figure(1)\n",
    "plt.clf()\n",
    "plt.plot(x,f(x),label=\"F(x)\")\n",
    "plt.plot(x,f(x) == 0,label=\"F(x) = 0\")\n",
    "plt.legend()\n",
    "plt.show()\n"
   ]
  },
  {
   "cell_type": "code",
   "execution_count": 32,
   "metadata": {},
   "outputs": [
    {
     "data": {
      "text/plain": [
       "array([[0., 0.],\n",
       "       [0., 0.],\n",
       "       [0., 0.]])"
      ]
     },
     "execution_count": 32,
     "metadata": {},
     "output_type": "execute_result"
    }
   ],
   "source": [
    "#creates 2 dimensional array \n",
    "\n",
    "array1 = np.zeros([3,2])\n",
    "array1"
   ]
  },
  {
   "cell_type": "code",
   "execution_count": 13,
   "metadata": {},
   "outputs": [
    {
     "name": "stdout",
     "output_type": "stream",
     "text": [
      "\n",
      "Number of iterations:  6\n",
      "\n",
      "Number of iterations:  5\n",
      "\n",
      "Number of iterations:  6\n"
     ]
    },
    {
     "data": {
      "text/plain": [
       "array([[1.46557123, 6.        ],\n",
       "       [1.46557123, 5.        ],\n",
       "       [1.46557123, 6.        ]])"
      ]
     },
     "execution_count": 13,
     "metadata": {},
     "output_type": "execute_result"
    }
   ],
   "source": [
    "f = lambda x: x**3 - x**2 - 1\n",
    "Df = lambda x: 3*x**2 - 2*x\n",
    "swim = newtons(f,Df,3,1e-10,10)\n",
    "#print('The solution found is',swim)\n",
    "array1[0,:] = swim\n",
    "\n",
    "f = lambda x: x**3 - x**2 - 1\n",
    "Df = lambda x: 3*x**2 - 2*x\n",
    "g = newtons(f,Df,2,1e-10,20)\n",
    "#print('The solution found is',g)\n",
    "array1[1,:] = g\n",
    "\n",
    "f = lambda x: x**3 - x**2 - 1\n",
    "Df = lambda x: 3*x**2 - 2*x\n",
    "h = newtons(f,Df,1,1e-10,30)\n",
    "#print('The solution found is',h)\n",
    "array1[2,:] = h\n",
    "\n",
    "array1\n",
    "\n",
    "\n",
    "#number of iterations are changing but am not exactly sure why the roots are not changing from 1. \n",
    "# I know that they need to get more accurate. This is depicted in exercise 7 in secant method. Am not sure what \n",
    "#I am doing differently here!"
   ]
  },
  {
   "cell_type": "code",
   "execution_count": 274,
   "metadata": {},
   "outputs": [
    {
     "data": {
      "image/png": "[encoded data removed]",
      "text/plain": [
       "<Figure size 432x288 with 1 Axes>"
      ]
     },
     "metadata": {
      "needs_background": "light"
     },
     "output_type": "display_data"
    }
   ],
   "source": [
    "x = np.linspace(0,3,100)\n",
    "plt.figure(1)\n",
    "plt.clf()\n",
    "plt.plot(x,f(x),label=\"F(x)\")\n",
    "plt.plot(x,f(x) == 0,label=\"F(x) = 0\")\n",
    "plt.legend()\n",
    "plt.show()"
   ]
  },
  {
   "cell_type": "code",
   "execution_count": 275,
   "metadata": {},
   "outputs": [
    {
     "data": {
      "text/plain": [
       "[<matplotlib.lines.Line2D at 0x11c7a4fa0>]"
      ]
     },
     "execution_count": 275,
     "metadata": {},
     "output_type": "execute_result"
    },
    {
     "data": {
      "image/png": "[encoded data removed]",
      "text/plain": [
       "<Figure size 432x288 with 1 Axes>"
      ]
     },
     "metadata": {
      "needs_background": "light"
     },
     "output_type": "display_data"
    }
   ],
   "source": [
    "plt.plot(array1[:,1], np.abs(f(array1[:,0])))"
   ]
  },
  {
   "cell_type": "markdown",
   "metadata": {},
   "source": [
    "### Exercise 2\n",
    "\n",
    "Use your Newton's method function to find all the roots of $f(x)=50\\sqrt 5 - 50x - 5\\sqrt 5 x^2 + 5 x^3$ within $10^{-10}$ accuracy.\n",
    "\n",
    "$f(x)=18x^6-48x^4+18x^2+1$ within $10^{-10}$"
   ]
  },
  {
   "cell_type": "code",
   "execution_count": 4,
   "metadata": {},
   "outputs": [
    {
     "name": "stdout",
     "output_type": "stream",
     "text": [
      "\n",
      "Number of iterations:  34\n",
      "The solution found for the first polynomial is 2.4999999999549356\n"
     ]
    },
    {
     "data": {
      "image/png": "[encoded data removed]",
      "text/plain": [
       "<Figure size 432x288 with 1 Axes>"
      ]
     },
     "metadata": {
      "needs_background": "light"
     },
     "output_type": "display_data"
    },
    {
     "name": "stdout",
     "output_type": "stream",
     "text": [
      "\n",
      "Number of iterations:  11\n",
      "The solution found for the second polynomial is 0.7175468966053133\n"
     ]
    },
    {
     "data": {
      "image/png": "[encoded data removed]",
      "text/plain": [
       "<Figure size 432x288 with 1 Axes>"
      ]
     },
     "metadata": {
      "needs_background": "light"
     },
     "output_type": "display_data"
    }
   ],
   "source": [
    "#first polynomial \n",
    "\n",
    "f = lambda x: (50*(5**1/2)) - (50*x) - (5*(5**1/2)*(x**2)) + (5*(x**3))\n",
    "Df = lambda x: (15*(x**2)) - (2*(5**1.5)*x) - 50\n",
    "quick = newtons(f,Df,1,1e-10, 50)\n",
    "print('The solution found for the first polynomial is',quick)\n",
    "\n",
    "\n",
    "x = np.linspace(0,3,100)\n",
    "plt.figure(1)\n",
    "plt.clf()\n",
    "plt.plot(x,f(x),label=\"F(x)\")\n",
    "plt.plot(x,f(x) == 0,label=\"F(x) = 0\")\n",
    "plt.legend()\n",
    "plt.show()\n",
    "\n",
    "\n",
    "#-----------------------------------------------------------------------\n",
    "\n",
    "#this one is for second polynomial in question 2: \n",
    "\n",
    "f = lambda x: (18*(x**6))-(48*(x**4))+(18*(x**2))+1\n",
    "Df = lambda x: (108*(x**5)) - (192*(x**3)) + (32*x)\n",
    "dive = newtons(f,Df,1,1e-10, 50)\n",
    "print('The solution found for the second polynomial is',dive)\n",
    "\n",
    "x = np.linspace(0,1,100)\n",
    "plt.figure(1)\n",
    "plt.clf()\n",
    "plt.plot(x,f(x),label=\"F(x)\")\n",
    "plt.plot(x,f(x) == 0,label=\"F(x) = 0\")\n",
    "plt.legend()\n",
    "plt.show()"
   ]
  },
  {
   "cell_type": "markdown",
   "metadata": {},
   "source": [
    "### Exercise 3\n",
    "\n",
    "Solve the equation\n",
    "$$x^3-3x^2+3x-1=0$$\n",
    "using Newton's method. (as accurately as possible, this means tolerence = $10^{-16}$)"
   ]
  },
  {
   "cell_type": "code",
   "execution_count": 25,
   "metadata": {},
   "outputs": [
    {
     "name": "stdout",
     "output_type": "stream",
     "text": [
      "\n",
      "Number of iterations:  32\n",
      "The solution found for the polynomial is 0.9999937887658344\n"
     ]
    },
    {
     "data": {
      "image/png": "[encoded data removed]",
      "text/plain": [
       "<Figure size 432x288 with 1 Axes>"
      ]
     },
     "metadata": {
      "needs_background": "light"
     },
     "output_type": "display_data"
    }
   ],
   "source": [
    "f = lambda x: x**3 - 3*x**2 + 3*x -1\n",
    "Df = lambda x: 3*x**2 - 6*x + 3\n",
    "jump = newtons(f,Df,2,1e-16, 50)\n",
    "print('The solution found for the polynomial is',jump)\n",
    "\n",
    "x = np.linspace(0,2,100)\n",
    "plt.figure(1)\n",
    "plt.clf()\n",
    "plt.plot(x,f(x),label=\"F(x)\")\n",
    "plt.plot(x,f(x) == 0,label=\"F(x) = 0\")\n",
    "plt.legend()\n",
    "plt.show()"
   ]
  },
  {
   "cell_type": "markdown",
   "metadata": {},
   "source": [
    "### Exercise 4\n",
    "\n",
    "Solve\n",
    "$$x + e^{\\sin(x)}=0$$\n"
   ]
  },
  {
   "cell_type": "code",
   "execution_count": 26,
   "metadata": {},
   "outputs": [
    {
     "name": "stdout",
     "output_type": "stream",
     "text": [
      "\n",
      "Number of iterations:  15\n",
      "The solution found for the polynomial is -0.5787136435197241\n"
     ]
    },
    {
     "data": {
      "image/png": "[encoded data removed]",
      "text/plain": [
       "<Figure size 432x288 with 1 Axes>"
      ]
     },
     "metadata": {
      "needs_background": "light"
     },
     "output_type": "display_data"
    }
   ],
   "source": [
    "# DO this \n",
    "\n",
    "sin = np.sin\n",
    "cos = np.cos\n",
    "e = np.exp\n",
    "\n",
    "f = lambda x: x + e(sin(x))\n",
    "Df = lambda x: e(sin(x))*(cos(x)) + 1\n",
    "sprint = newtons(f,Df,2,1e-16, 50)\n",
    "print('The solution found for the polynomial is',sprint)\n",
    "\n",
    "\n",
    "\n",
    "x = np.linspace(-1,1,100)\n",
    "plt.figure(1)\n",
    "plt.clf()\n",
    "plt.plot(x,f(x),label=\"F(x)\")\n",
    "plt.plot(x,f(x) == 0,label=\"F(x) = 0\")\n",
    "plt.legend()\n",
    "plt.show()\n"
   ]
  },
  {
   "cell_type": "markdown",
   "metadata": {},
   "source": [
    "### Exercise 5\n",
    "\n",
    "Use the newton method to define $\\log(x)$ assuming you know the function $e^x$. Use Newton's method with the $e^x$ function to find $\\log(5)$"
   ]
  },
  {
   "cell_type": "code",
   "execution_count": null,
   "metadata": {},
   "outputs": [],
   "source": [
    "#was not really sure about this exercise or 6\n",
    "\n",
    "\n",
    "def newtons(f, Df, x0, tol, itmax):\n",
    "    xn = x0\n",
    "    for i in range(0, itmax):\n",
    "        x1 = xn - f(xn) / Df(xn)\n",
    "        t = abs(x1 - xn)\n",
    "        if t < tol:\n",
    "            print(\"\\nNumber of iterations: \", i)\n",
    "            break\n",
    "        x1 = xn\n",
    "    return x1, i\n",
    "\n",
    "\n",
    "\n",
    "f = lambda x: log(x)\n",
    "Df = lambda x: np.exp(x) \n",
    "k = newtons(f,Df,1.4,1e-10,10)\n",
    "print(k) "
   ]
  },
  {
   "cell_type": "markdown",
   "metadata": {},
   "source": [
    "### Exercise 6\n",
    "\n",
    "Let us compute $\\sqrt[m]{a}$, with $a>0$ and $m$ a positive integer. Find a way to apply the Newton's method to this problem to find $\\sqrt[m]{5}$ for $m=3,4,5,6,7,8,$ say to six significant digits."
   ]
  },
  {
   "cell_type": "code",
   "execution_count": null,
   "metadata": {},
   "outputs": [],
   "source": [
    "#started with: \n",
    "\n",
    "def newtons(f, Df, x0, tol, itmax):\n",
    "    xn = x0\n",
    "    for i in range(0, itmax):\n",
    "        x1 = xn - f(xn) / Df(xn)\n",
    "        t = abs(x1 - xn)\n",
    "        if t < tol:\n",
    "            print(\"\\nNumber of iterations: \", i)\n",
    "            break\n",
    "        x1 = xn\n",
    "    return x1, i"
   ]
  },
  {
   "cell_type": "markdown",
   "metadata": {},
   "source": [
    "## Secant Method"
   ]
  },
  {
   "cell_type": "markdown",
   "metadata": {},
   "source": [
    "### Exercise 7\n",
    "\n",
    "#### Part 1\n",
    "Write a function that take into argument a function, its derivative, an initial guess, a tolerance, a maximum number of iteration and return the zero of the function using Secant's method\n"
   ]
  },
  {
   "cell_type": "code",
   "execution_count": 92,
   "metadata": {},
   "outputs": [],
   "source": [
    "def secant(f, x0, x1, tol, itmax):\n",
    "    xn = x0\n",
    "    xm = x1\n",
    "    for i in range(0, itmax):\n",
    "        x2 = xn - f(xn)*(xm-xn)/(f(xm)- f(xn))\n",
    "        t = abs(x2 - xn)\n",
    "        if t < tol:\n",
    "            print(\"\\nNumber of iterations: \", i)\n",
    "            break\n",
    "        xn = x2\n",
    "    return xn,i"
   ]
  },
  {
   "cell_type": "markdown",
   "metadata": {},
   "source": [
    "#### Part 2\n",
    "Test your Secant method Function with a polynomial you know the root of."
   ]
  },
  {
   "cell_type": "code",
   "execution_count": 93,
   "metadata": {},
   "outputs": [
    {
     "data": {
      "text/plain": [
       "array([[0., 0.],\n",
       "       [0., 0.],\n",
       "       [0., 0.]])"
      ]
     },
     "execution_count": 93,
     "metadata": {},
     "output_type": "execute_result"
    }
   ],
   "source": [
    "array = np.zeros([3,2])\n",
    "array"
   ]
  },
  {
   "cell_type": "code",
   "execution_count": 94,
   "metadata": {},
   "outputs": [
    {
     "name": "stdout",
     "output_type": "stream",
     "text": [
      "\n",
      "Number of iterations:  25\n"
     ]
    },
    {
     "data": {
      "text/plain": [
       "array([[ 1.465232  ,  9.        ],\n",
       "       [ 1.46557121, 19.        ],\n",
       "       [ 1.46557123, 25.        ]])"
      ]
     },
     "execution_count": 94,
     "metadata": {},
     "output_type": "execute_result"
    }
   ],
   "source": [
    "\n",
    "\n",
    "f = lambda x: x**3 - x**2 - 1\n",
    "Df = lambda x: 3*x**2 - 2*x\n",
    "fly = secant(f,0,2,1e-10,10)\n",
    "array[0,:]= fly\n",
    "\n",
    "f = lambda x: x**3 - x**2 - 1\n",
    "Df = lambda x: 3*x**2 - 2*x\n",
    "z = secant(f,0,2,1e-10,20)\n",
    "array[1,:]=z\n",
    "\n",
    "f = lambda x: x**3 - x**2 - 1\n",
    "Df = lambda x: 3*x**2 - 2*x\n",
    "v = secant(f,0,2,1e-10,30)\n",
    "array[2,:]=v\n",
    "\n",
    "array\n"
   ]
  },
  {
   "cell_type": "code",
   "execution_count": 22,
   "metadata": {},
   "outputs": [
    {
     "data": {
      "image/png": "[encoded data removed]",
      "text/plain": [
       "<Figure size 432x288 with 1 Axes>"
      ]
     },
     "metadata": {
      "needs_background": "light"
     },
     "output_type": "display_data"
    }
   ],
   "source": [
    "x = np.linspace(0,3,100)\n",
    "plt.figure(1)\n",
    "plt.clf()\n",
    "plt.plot(x,f(x),label=\"F(x)\")\n",
    "plt.plot(x,f(x) == 0,label=\"F(x) = 0\")\n",
    "plt.legend()\n",
    "plt.show()\n",
    "\n",
    "print('You can see from the graph that the root does seem to be around 1.4')"
   ]
  },
  {
   "cell_type": "code",
   "execution_count": 24,
   "metadata": {},
   "outputs": [
    {
     "data": {
      "text/plain": [
       "[<matplotlib.lines.Line2D at 0x11bd11ae0>]"
      ]
     },
     "execution_count": 24,
     "metadata": {},
     "output_type": "execute_result"
    },
    {
     "data": {
      "image/png": "[encoded data removed]",
      "text/plain": [
       "<Figure size 432x288 with 1 Axes>"
      ]
     },
     "metadata": {
      "needs_background": "light"
     },
     "output_type": "display_data"
    }
   ],
   "source": [
    "plt.plot(array[:,1], np.abs(f(array[:,0])))"
   ]
  },
  {
   "cell_type": "markdown",
   "metadata": {},
   "source": [
    "### Exercise 8\n",
    "\n",
    "Solve the equation\n",
    "$$x + e^{\\sin(x)}=0$$\n",
    "using the secant's method. (as accurately as possible, this means tolerence = $10^{-16}$)\n"
   ]
  },
  {
   "cell_type": "code",
   "execution_count": 279,
   "metadata": {},
   "outputs": [
    {
     "name": "stdout",
     "output_type": "stream",
     "text": [
      "\n",
      "Number of iterations:  25\n",
      "The solution found for the polynomial is (-0.5787136435197241, 25)\n",
      "The second number in parenthesis is number of iterations(25)\n"
     ]
    },
    {
     "data": {
      "image/png": "[encoded data removed]",
      "text/plain": [
       "<Figure size 432x288 with 1 Axes>"
      ]
     },
     "metadata": {
      "needs_background": "light"
     },
     "output_type": "display_data"
    }
   ],
   "source": [
    "sin = np.sin\n",
    "cos = np.cos\n",
    "e = np.exp\n",
    "\n",
    "f = lambda x: x + e(sin(x))\n",
    "Df = lambda x: e(sin(x))*(cos(x)) + 1\n",
    "roll = secant(f,-0.5,0.5,1e-16, 50)\n",
    "print('The solution found for the polynomial is',roll)\n",
    "\n",
    "print('The second number in parenthesis is number of iterations(25)')\n",
    "\n",
    "x = np.linspace(-1,1,100)\n",
    "plt.figure(1)\n",
    "plt.clf()\n",
    "plt.plot(x,f(x),label=\"F(x)\")\n",
    "plt.plot(x,f(x) == 0,label=\"F(x) = 0\")\n",
    "plt.legend()\n",
    "plt.show()\n",
    "\n",
    "\n"
   ]
  },
  {
   "cell_type": "markdown",
   "metadata": {},
   "source": [
    "## Fixed Point Method"
   ]
  },
  {
   "cell_type": "markdown",
   "metadata": {},
   "source": [
    "### Exercise 9\n",
    "\n",
    "We can convert the equation $x^2-6=0$ into a fixed-point problem:\n",
    "$$x=x+c(x^2-6)$$\n",
    "Find a $c$  such that the fixed point methods converges to the solution."
   ]
  },
  {
   "cell_type": "code",
   "execution_count": 22,
   "metadata": {},
   "outputs": [],
   "source": [
    "\n",
    "def fixedpoint(f, x0, tol, itmax):\n",
    "    xn = x0\n",
    "    for i in range(0, itmax):\n",
    "        x1 = (f(xn) - (xn))\n",
    "        t = abs(x1 - xn)\n",
    "        if t < tol:\n",
    "            print(\"\\nNumber of iterations: \", i)\n",
    "            break\n",
    "        x1 = xn\n",
    "    return x1,i\n",
    " "
   ]
  },
  {
   "cell_type": "code",
   "execution_count": 23,
   "metadata": {},
   "outputs": [
    {
     "data": {
      "image/png": "[encoded data removed]",
      "text/plain": [
       "<Figure size 432x288 with 1 Axes>"
      ]
     },
     "metadata": {
      "needs_background": "light"
     },
     "output_type": "display_data"
    },
    {
     "name": "stdout",
     "output_type": "stream",
     "text": [
      "The solution to the equation (x^2 - 6 = 0) is: 2.449489742783178\n",
      "The solution found for the polynomial is (2.44, 9) . The second number is the number of iterations it took (9).\n",
      "\n",
      "As you can see from the graph, graphing fixed point method the line converges to the root of 2.44 with the c being 53\n"
     ]
    }
   ],
   "source": [
    "#Plotting the solution: \n",
    "\n",
    "def fixpoint(x):\n",
    "    return 53*((x**2)- 6)+ x\n",
    "\n",
    "def function(x):\n",
    "    return (x**2)-6\n",
    "\n",
    "\n",
    "\n",
    "#graph\n",
    "x=np.linspace(2,3)\n",
    "plt.figure(1)\n",
    "plt.clf()\n",
    "plt.plot(x,function(x),label=\"f(x) = x^2 - 6\")\n",
    "\n",
    "plt.plot(x,x*0,label=\"f(x) = 0\")\n",
    "\n",
    "plt.plot(x,fixpoint(x),label=\"fixed point method\")\n",
    "plt.legend()\n",
    "plt.show()\n",
    "\n",
    "\n",
    "#printing the actual solution to the problem. \n",
    "print ('The solution to the equation (x^2 - 6 = 0) is:',(6**(1/2)))\n",
    "\n",
    "\n",
    "f = lambda x: ((x**2) - 6)\n",
    "b = fixedpoint(f,2.44,1e-10,10)\n",
    "print('The solution found for the polynomial is',b,'. The second number is the number of iterations it took (9).')\n",
    "\n",
    "print('\\nAs you can see from the graph, graphing fixed point method the line converges to the root of 2.44 with the c being 53')\n"
   ]
  },
  {
   "cell_type": "markdown",
   "metadata": {},
   "source": [
    "### Exercise 10\n",
    "\n",
    "\n",
    "Using the Newton's method Find the minimum value of\n",
    "$$(1-x)^2+e^{x^2}-\\log( (3-x)^2)$$"
   ]
  },
  {
   "cell_type": "code",
   "execution_count": 131,
   "metadata": {},
   "outputs": [
    {
     "name": "stdout",
     "output_type": "stream",
     "text": [
      "\n",
      "Number of iterations:  11\n",
      "The minimum value of  the polynomial is: 0.30056706026243174\n"
     ]
    }
   ],
   "source": [
    "sin = np.sin\n",
    "cos = np.cos\n",
    "e = np.exp\n",
    "\n",
    "def newtons(Df, Df2, x0, tol, itmax):\n",
    "    xn = x0\n",
    "    for i in range(0, itmax):\n",
    "        x1 = xn - Df(xn) / Df2(xn)\n",
    "        t = abs(x1 - xn)\n",
    "        if t < tol:\n",
    "            print(\"\\nNumber of iterations: \", i)\n",
    "            break\n",
    "        xn = x1\n",
    "    return xn\n",
    "\n",
    "\n",
    "\n",
    "Df = lambda x: 2*x*(e(x**2)) - (2*(1-x)) + (2/(3-x))\n",
    "Df2 = lambda x: (4*x**2)*(e(x**2)) + (2*(e(x**2))) - (2/((3-x)**2)) + 2\n",
    "m = newtons(Df, Df2, 0,1e-10,50)\n",
    "print('The minimum value of  the polynomial is:',m)\n",
    "\n"
   ]
  }
 ],
 "metadata": {
  "kernelspec": {
   "display_name": "Python 3 (ipykernel)",
   "language": "python",
   "name": "python3"
  },
  "language_info": {
   "codemirror_mode": {
    "name": "ipython",
    "version": 3
   },
   "file_extension": ".py",
   "mimetype": "text/x-python",
   "name": "python",
   "nbconvert_exporter": "python",
   "pygments_lexer": "ipython3",
   "version": "3.11.1"
  }
 },
 "nbformat": 4,
 "nbformat_minor": 4
}
