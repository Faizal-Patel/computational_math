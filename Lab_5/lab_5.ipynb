{
 "cells": [
  {
   "cell_type": "markdown",
   "metadata": {},
   "source": [
    "# Lab 5: Solving ODE"
   ]
  },
  {
   "cell_type": "markdown",
   "metadata": {},
   "source": [
    "The goal of the lab is to solve\n",
    "$$Ax=b$$\n",
    "For that we will use following functions\n",
    "* [scipy.lingal.inv](https://docs.scipy.org/doc/scipy/reference/generated/scipy.linalg.inv.html) this one solve the system using $x=A^{-1}b$\n",
    "* [scipy.lingal.lu_factor](https://docs.scipy.org/doc/scipy/reference/generated/scipy.linalg.lu_factor.html#scipy.linalg.lu_factor) this one compute the $PLU$ factorization of $A$\n",
    "* [scipy.lingal.lu_solve](https://docs.scipy.org/doc/scipy/reference/generated/scipy.linalg.lu_solve.html) this one solve $PLUx=b$\n",
    "* [scipy.lingal.solve](https://docs.scipy.org/doc/scipy/reference/generated/scipy.linalg.solve.html) this one solve directly $Ax=b$"
   ]
  },
  {
   "cell_type": "code",
   "execution_count": 4,
   "metadata": {},
   "outputs": [],
   "source": [
    "# IMPORTS\n",
    "import numpy as np \n",
    "import matplotlib.pyplot as plt\n",
    "import scipy.linalg as sci "
   ]
  },
  {
   "cell_type": "code",
   "execution_count": 54,
   "metadata": {},
   "outputs": [
    {
     "data": {
      "text/plain": [
       "array([ 0., 96.,  0.])"
      ]
     },
     "execution_count": 54,
     "metadata": {},
     "output_type": "execute_result"
    }
   ],
   "source": [
    "A = np.array([[1,0,0],[1,4,1],[0,0,1]])\n",
    "\n",
    "b = np.array([0.0, 24.0, 0.0])\n",
    "              \n",
    "np.dot(A,b)"
   ]
  },
  {
   "cell_type": "code",
   "execution_count": 7,
   "metadata": {},
   "outputs": [],
   "source": [
    "#A*b"
   ]
  },
  {
   "cell_type": "code",
   "execution_count": 55,
   "metadata": {},
   "outputs": [
    {
     "name": "stdout",
     "output_type": "stream",
     "text": [
      "[[ 1.   -0.   -0.  ]\n",
      " [-0.25  0.25 -0.25]\n",
      " [ 0.    0.    1.  ]]\n",
      "\n",
      "x =  [0. 6. 0.]\n",
      "\n",
      "Ax =  [ 0. 24.  0.]\n",
      "\n",
      "b =  [ 0. 24.  0.]\n",
      "\n",
      "error =  0.0\n"
     ]
    }
   ],
   "source": [
    "#Method inv\n",
    "\n",
    "Ainverse = sci.inv(A)\n",
    "print(Ainverse)\n",
    "x = np.dot(Ainverse, b)\n",
    "print('\\nx = ', x)\n",
    "print('\\nAx = ', np.dot(A,x))\n",
    "print('\\nb = ', b)\n",
    "print('\\nerror = ', sci.norm(np.dot(A,x)-b))"
   ]
  },
  {
   "cell_type": "code",
   "execution_count": 56,
   "metadata": {},
   "outputs": [
    {
     "name": "stdout",
     "output_type": "stream",
     "text": [
      "(array([[1., 0., 0.],\n",
      "       [1., 4., 1.],\n",
      "       [0., 0., 1.]]), array([0, 1, 2], dtype=int32))\n",
      "\n",
      "x =  [0. 6. 0.]\n",
      "\n",
      "Ax =  [ 0. 24.  0.]\n",
      "\n",
      "b =  [ 0. 24.  0.]\n",
      "\n",
      "error =  0.0\n"
     ]
    }
   ],
   "source": [
    "#Method factor \n",
    "\n",
    "ludecomp = sci.lu_factor(A)\n",
    "print(ludecomp)\n",
    "x = sci.lu_solve(ludecomp, b)\n",
    "\n",
    "print('\\nx = ', x)\n",
    "print('\\nAx = ', np.dot(A,x))\n",
    "print('\\nb = ', b)\n",
    "print('\\nerror = ', sci.norm(np.dot(A,x)-b))"
   ]
  },
  {
   "cell_type": "code",
   "execution_count": 57,
   "metadata": {},
   "outputs": [
    {
     "name": "stdout",
     "output_type": "stream",
     "text": [
      "\n",
      "x =  [0. 6. 0.]\n",
      "\n",
      "Ax =  [ 0. 24.  0.]\n",
      "\n",
      "b =  [ 0. 24.  0.]\n",
      "\n",
      "error =  0.0\n"
     ]
    }
   ],
   "source": [
    "#Method solve\n",
    "\n",
    "x = sci.solve(A,b)\n",
    "\n",
    "print('\\nx = ', x)\n",
    "print('\\nAx = ', np.dot(A,x))\n",
    "print('\\nb = ', b)\n",
    "print('\\nerror = ', sci.norm(np.dot(A,x)-b))"
   ]
  },
  {
   "cell_type": "markdown",
   "metadata": {},
   "source": [
    "### Exercise 1\n",
    "\n",
    "Test the different solvers with a system you know the answer of\n",
    "* Invert $A$ with **scipy.linalg.inv()**  and left-multiply the inverse to **b**.\n",
    "* Use **scipy.linalg.solve()**.\n",
    "* Use **scipy.linalg.lu_factor()** and **scipy.linalg.lu_solve()** to solve the system with the LU decomposition."
   ]
  },
  {
   "cell_type": "code",
   "execution_count": 58,
   "metadata": {},
   "outputs": [
    {
     "data": {
      "text/plain": [
       "array([ 18., -38., -69.])"
      ]
     },
     "execution_count": 58,
     "metadata": {},
     "output_type": "execute_result"
    }
   ],
   "source": [
    "A = np.array([[-1,-11,-3],[1,1,0],[2,5,1]])\n",
    "\n",
    "b = np.array([-37.0, -1.0, 10.0])\n",
    "              \n",
    "np.dot(A,b)"
   ]
  },
  {
   "cell_type": "code",
   "execution_count": 12,
   "metadata": {},
   "outputs": [],
   "source": [
    "#A*b"
   ]
  },
  {
   "cell_type": "code",
   "execution_count": 59,
   "metadata": {},
   "outputs": [
    {
     "name": "stdout",
     "output_type": "stream",
     "text": [
      "[[  1.  -4.   3.]\n",
      " [ -1.   5.  -3.]\n",
      " [  3. -17.  10.]]\n",
      "\n",
      "x =  [-3.  2.  6.]\n",
      "\n",
      "Ax =  [-37.  -1.  10.]\n",
      "\n",
      "b =  [-37.  -1.  10.]\n",
      "\n",
      "error =  5.0242958677880805e-15\n"
     ]
    }
   ],
   "source": [
    "#Method inv\n",
    "\n",
    "Ainverse = sci.inv(A)\n",
    "print(Ainverse)\n",
    "x = np.dot(Ainverse, b)\n",
    "print('\\nx = ', x)\n",
    "print('\\nAx = ', np.dot(A,x))\n",
    "print('\\nb = ', b)\n",
    "print('\\nerror = ', sci.norm(np.dot(A,x)-b))"
   ]
  },
  {
   "cell_type": "code",
   "execution_count": 60,
   "metadata": {},
   "outputs": [
    {
     "name": "stdout",
     "output_type": "stream",
     "text": [
      "(array([[ 2.        ,  5.        ,  1.        ],\n",
      "       [-0.5       , -8.5       , -2.5       ],\n",
      "       [ 0.5       ,  0.17647059, -0.05882353]]), array([2, 2, 2], dtype=int32))\n",
      "\n",
      "x =  [-3.  2.  6.]\n",
      "\n",
      "Ax =  [-37.  -1.  10.]\n",
      "\n",
      "b =  [-37.  -1.  10.]\n",
      "\n",
      "error =  2.220446049250313e-16\n"
     ]
    }
   ],
   "source": [
    "#Method factor and solve\n",
    "\n",
    "ludecomp = sci.lu_factor(A)\n",
    "print(ludecomp)\n",
    "x = sci.lu_solve(ludecomp, b)\n",
    "\n",
    "print('\\nx = ', x)\n",
    "print('\\nAx = ', np.dot(A,x))\n",
    "print('\\nb = ', b)\n",
    "print('\\nerror = ', sci.norm(np.dot(A,x)-b))"
   ]
  },
  {
   "cell_type": "code",
   "execution_count": 61,
   "metadata": {},
   "outputs": [
    {
     "name": "stdout",
     "output_type": "stream",
     "text": [
      "\n",
      "x =  [-3.  2.  6.]\n",
      "\n",
      "Ax =  [-37.  -1.  10.]\n",
      "\n",
      "b =  [-37.  -1.  10.]\n",
      "\n",
      "error =  2.220446049250313e-16\n"
     ]
    }
   ],
   "source": [
    "#Method solve\n",
    "\n",
    "x = sci.solve(A,b)\n",
    "\n",
    "print('\\nx = ', x)\n",
    "print('\\nAx = ', np.dot(A,x))\n",
    "print('\\nb = ', b)\n",
    "print('\\nerror = ', sci.norm(np.dot(A,x)-b))"
   ]
  },
  {
   "cell_type": "markdown",
   "metadata": {},
   "source": [
    "## Exercise 2\n",
    "\n",
    "Write a function that times different **scipy.linalg** functions for solving square linear systems.\n",
    "\n",
    "For various values of $n$, generate a random $n \\times n$ matrix $A$ and a random $n$-vector $b$ using **np.random.random()**.\n",
    "Time how long it takes to solve the system $Ax = b$ with each of the following approaches:\n",
    "\n",
    "* Invert $A$ with **scipy.linalg.inv()**  and left-multiply the inverse to **b**.\n",
    "* Use **scipy.linalg.solve()**.\n",
    "* Use **scipy.linalg.lu_factor()** and **scipy.linalg.lu_solve()** to solve the system with the LU decomposition.\n",
    "* Use **scipy.linalg.lu_factor()** and **scipy.linalg.lu_solve()**, but only time **scipy.linalg.lu_solve()** (not the time it takes to do the factorization with **scipy.linalga.lu_factor()**).\n",
    "\n",
    "Plot the system size $n$ versus the execution times. (to time a code use **time.time()** and to create a random matrix use **np.random.random((n,n))**)\n",
    "\n",
    "**What can you conclude?**"
   ]
  },
  {
   "cell_type": "code",
   "execution_count": 66,
   "metadata": {},
   "outputs": [
    {
     "name": "stdout",
     "output_type": "stream",
     "text": [
      "METHOD 1:\n",
      "time:  0.003942966461181641\n",
      "error:  9.06945531029624e-14 \n",
      "\n",
      "METHOD 2:\n",
      "time:  0.0021209716796875\n",
      "error:  5.68464545458316e-14 \n",
      "\n",
      "METHOD 3:\n",
      "time:  0.0009598731994628906\n",
      "error:  5.68464545458316e-14 \n",
      "\n",
      "METHOD 4:\n",
      "time:  0.0001900196075439453\n",
      "error:  5.68464545458316e-14 \n",
      "\n",
      "METHOD 1:\n",
      "time:  0.005102872848510742\n",
      "error:  3.4078518887913486e-12 \n",
      "\n",
      "METHOD 2:\n",
      "time:  0.003961086273193359\n",
      "error:  8.952525388818537e-13 \n",
      "\n",
      "METHOD 3:\n",
      "time:  0.003186941146850586\n",
      "error:  8.952525388818537e-13 \n",
      "\n",
      "METHOD 4:\n",
      "time:  0.00010704994201660156\n",
      "error:  8.952525388818537e-13 \n",
      "\n",
      "METHOD 1:\n",
      "time:  0.01755499839782715\n",
      "error:  4.0751233999658066e-12 \n",
      "\n",
      "METHOD 2:\n",
      "time:  0.011039972305297852\n",
      "error:  1.7763983196236996e-12 \n",
      "\n",
      "METHOD 3:\n",
      "time:  0.00853419303894043\n",
      "error:  1.7763983196236996e-12 \n",
      "\n",
      "METHOD 4:\n",
      "time:  0.0003750324249267578\n",
      "error:  1.7763983196236996e-12 \n",
      "\n"
     ]
    },
    {
     "data": {
      "image/png": "[encoded data removed]",
      "text/plain": [
       "<Figure size 432x288 with 1 Axes>"
      ]
     },
     "metadata": {
      "needs_background": "light"
     },
     "output_type": "display_data"
    },
    {
     "name": "stdout",
     "output_type": "stream",
     "text": [
      " I conclude that the fastest method is method 2\n"
     ]
    }
   ],
   "source": [
    "import time\n",
    "\n",
    "\n",
    "n = np.array([100,300,500])\n",
    "\n",
    "\n",
    "method1=np.zeros(3)\n",
    "method2=np.zeros(3)\n",
    "method3=np.zeros(3)\n",
    "method4=np.zeros(3)\n",
    "\n",
    "\n",
    "\n",
    "for i in range (3):\n",
    "    A = np.random.random((n[i],n[i]))\n",
    "    b = np.random.random(n[i])\n",
    "    \n",
    "    #METHOD 1\n",
    "    start = time.time()\n",
    "    Ainverse = sci.inv(A)\n",
    "    x = np.dot(Ainverse,b)\n",
    "    end = time.time()\n",
    "    method1[i] = end-start\n",
    "    print('METHOD 1:')\n",
    "    print('time: ', method1[i])\n",
    "    print('error: ', sci.norm(np.dot(A,x)-b), '\\n')\n",
    "    \n",
    "    \n",
    "    \n",
    "    #METHOD 2\n",
    "    start = time.time()\n",
    "    x = sci.solve(A,b)\n",
    "    end = time.time()\n",
    "    method2[i] = end-start\n",
    "    print('METHOD 2:')\n",
    "    print('time: ', method2[i])\n",
    "    print('error: ', sci.norm(np.dot(A,x)-b), '\\n')\n",
    "    \n",
    "    \n",
    "    \n",
    "    \n",
    "    #METHOD 3\n",
    "    \n",
    "    start = time.time()\n",
    "    lud = sci.lu_factor(A)\n",
    "    x = sci.lu_solve((lud),b)\n",
    "    end = time.time()\n",
    "    method3[i] = end-start\n",
    "    print('METHOD 3:')\n",
    "    print('time: ', method3[i])\n",
    "    print('error: ', sci.norm(np.dot(A,x)-b), '\\n')\n",
    "    \n",
    "    \n",
    "    \n",
    "    \n",
    "    #METHOD 4\n",
    "    lud = sci.lu_factor(A)\n",
    "    start = time.time()\n",
    "    x = sci.lu_solve((lud),b)\n",
    "    end = time.time()\n",
    "    method4[i] = end-start\n",
    "    print('METHOD 4:')\n",
    "    print('time: ', method4[i])\n",
    "    print('error: ', sci.norm(np.dot(A,x)-b), '\\n')\n",
    "    \n",
    "    \n",
    "plt.plot(n,method1, label = 'METHOD 1')\n",
    "plt.plot(n,method2, label = 'METHOD 2')\n",
    "plt.plot(n,method3, label = 'METHOD 3')\n",
    "plt.plot(n,method4, label = 'METHOD 4')\n",
    "plt.legend()\n",
    "plt.show()\n",
    "\n",
    "print(' I conclude that the fastest method is method 2')"
   ]
  },
  {
   "cell_type": "markdown",
   "metadata": {
    "tags": []
   },
   "source": [
    "### Exercise 3\n",
    "\n",
    " Solve the systems\n",
    "1. $\\begin{cases}\n",
    "  4x_1-2x_2+x_3&=11\\\\\n",
    "  2x_1-x_2+x_3 &= 3\\\\\n",
    "  x_1+2x_2+4x_3 &= 7\\\n",
    "  \\end{cases}$\n",
    "\n",
    "2. $\\begin{cases}\n",
    "  -x_1+4x_2+x_3&=1\\\\\n",
    "  \\frac{5}{3}x_1+\\frac{2}{3}x_2+\\frac{2}{3}x_3 &= 8\\\\\n",
    "  2x_1+x_2+4x_3 &=-5\\\\\n",
    "  \\end{cases}$\n",
    "  \n",
    "3. $\\begin{cases}\n",
    "  x_1+x_2+x_4 &=2\\\\\n",
    "  2x_1-x_3+x_4 &= 1\\\\\n",
    "  -x_1+2x_2+3x_3-x_4 &= 2\\\\\n",
    "  3x_1-x_2-x_3+2x_4 &= -3\n",
    "  \\end{cases}$\n",
    "\n",
    "4. $\\begin{cases}\n",
    "  2x_1+x_2 &=1\\\\\n",
    "  -x_1+2x_2+x_3 &= -2\\\\\n",
    "  -x_2+2x_3+x_4 &= -2\\\\\n",
    "  -x_3+2x_4+x_5 & =1.3 \\\\\n",
    "  -x_4+2x_5 &= 0.4\\end{cases}$"
   ]
  },
  {
   "cell_type": "code",
   "execution_count": 5,
   "metadata": {},
   "outputs": [
    {
     "name": "stdout",
     "output_type": "stream",
     "text": [
      "1:\n",
      "x =  [ 0.13674141 -0.1759448   0.80617845  0.96158068]\n",
      "Ax =  [ 5. -2.  6. 12.]\n",
      "b =  [ 5 -2  6 12]\n",
      "error:  2.220446049250313e-16 \n",
      "\n"
     ]
    }
   ],
   "source": [
    "\n",
    "A = np.array([[7,-2,1,3], [3,10,-2,1], [-2,1,8,0], [-1,4,4,10]], dtype=np.float64)\n",
    "b = np.array([5,-2,6,12])\n",
    "x = sci.solve(A,b)\n",
    "\n",
    "print('1:')\n",
    "print('x = ', x)\n",
    "print('Ax = ', np.dot(A,x))\n",
    "print('b = ', b)\n",
    "print(\"error: \",sci.norm(np.dot(A,x)-b), '\\n')\n",
    "\n",
    "\n",
    "\n",
    "\n",
    "\n",
    "\n",
    "\n",
    "\n",
    "\n",
    "\n",
    "# A = np.array([[4,-2,1], [2,-1,1], [1,2,4]], dtype=np.float64)\n",
    "# b = np.array([11,3,7])\n",
    "# x = sci.solve(A,b)\n",
    "\n",
    "# print('1:')\n",
    "# print('x = ', x)\n",
    "# print('Ax = ', np.dot(A,x))\n",
    "# print('b = ', b)\n",
    "# print(\"error: \",sci.norm(np.dot(A,x)-b), '\\n')\n",
    "\n",
    "\n",
    "\n",
    "\n",
    "\n",
    "# A = np.array([[-1,4,1], [5/3,2/3,2/3], [2,1,4]], dtype=np.float64)\n",
    "# b = np.array([1,8,-5])\n",
    "# x = sci.solve(A,b)\n",
    "\n",
    "# print('2:')\n",
    "# print('x = ',x)\n",
    "# print('Ax = ', np.dot(A,x))\n",
    "# print('b = ', b)\n",
    "# print(\"error: \",sci.norm(np.dot(A,x)-b), '\\n')\n",
    "\n",
    "\n",
    "\n",
    "\n",
    "# A = np.array([[1,1,0,1], [2,0,-1,1], [-1,2,3,-1], [3,-1,-1,2]], dtype=np.float64)\n",
    "# b = np.array([2,1,2,-3])\n",
    "# x = sci.solve(A,b)\n",
    "\n",
    "# print('3:')\n",
    "# print('x = ',x)\n",
    "# print('Ax = ', np.dot(A,x))\n",
    "# print('b = ', b)\n",
    "# print(\"error: \",sci.norm(np.dot(A,x)-b), '\\n')\n",
    "\n",
    "\n",
    "\n",
    "\n",
    "\n",
    "# A = np.array([[2,1,0,0,0], [-1,2,1,0,0], [0,-1,2,1,0], [0,0,-1,2,1], [0,0,0,-1,2]], dtype=np.float64)\n",
    "# b = np.array([1,-2,-2,1.3,0.4])\n",
    "# x = sci.solve(A,b)\n",
    "# print('4:')\n",
    "# print('x = ',x)\n",
    "# print('Ax = ', np.dot(A,x))\n",
    "# print('b = ', b)\n",
    "# print(\"error: \",sci.norm(np.dot(A,x)-b), '\\n')"
   ]
  },
  {
   "cell_type": "markdown",
   "metadata": {},
   "source": [
    "### Exercise 4\n",
    "\n",
    "Solve the tridiagonal system $Ax=f$ with\n",
    "$$ A_{ii}=4,\\enspace A_{i,i-1}=A_{i,i+1}=1 $$\n",
    "for all $i$. Let the order of the system be $n=100$, and let\n",
    "$$ f = [1,1,\\dots, 1]^T $$"
   ]
  },
  {
   "cell_type": "code",
   "execution_count": 68,
   "metadata": {},
   "outputs": [
    {
     "name": "stdout",
     "output_type": "stream",
     "text": [
      "\n",
      "x =  [0.21132487 0.15470054 0.16987298 0.16580754 0.16689687 0.16660498\n",
      " 0.16668319 0.16666224 0.16666785 0.16666635 0.16666675 0.16666664\n",
      " 0.16666667 0.16666667 0.16666667 0.16666667 0.16666667 0.16666667\n",
      " 0.16666667 0.16666667 0.16666667 0.16666667 0.16666667 0.16666667\n",
      " 0.16666667 0.16666667 0.16666667 0.16666667 0.16666667 0.16666667\n",
      " 0.16666667 0.16666667 0.16666667 0.16666667 0.16666667 0.16666667\n",
      " 0.16666667 0.16666667 0.16666667 0.16666667 0.16666667 0.16666667\n",
      " 0.16666667 0.16666667 0.16666667 0.16666667 0.16666667 0.16666667\n",
      " 0.16666667 0.16666667 0.16666667 0.16666667 0.16666667 0.16666667\n",
      " 0.16666667 0.16666667 0.16666667 0.16666667 0.16666667 0.16666667\n",
      " 0.16666667 0.16666667 0.16666667 0.16666667 0.16666667 0.16666667\n",
      " 0.16666667 0.16666667 0.16666667 0.16666667 0.16666667 0.16666667\n",
      " 0.16666667 0.16666667 0.16666667 0.16666667 0.16666667 0.16666667\n",
      " 0.16666667 0.16666667 0.16666667 0.16666667 0.16666667 0.16666667\n",
      " 0.16666667 0.16666667 0.16666667 0.16666667 0.16666664 0.16666675\n",
      " 0.16666635 0.16666785 0.16666224 0.16668319 0.16660498 0.16689687\n",
      " 0.16580754 0.16987298 0.15470054 0.21132487]\n",
      "\n",
      "error: 2.482534153247273e-16 \n",
      "\n"
     ]
    }
   ],
   "source": [
    "A = np.zeros((100,100))\n",
    "\n",
    "\n",
    "f = np.zeros(100)\n",
    "for i in range (100):\n",
    "    f[i] = 1\n",
    "for i in range (100):\n",
    "    A[i][i] = 4\n",
    "for i in range (1,100):\n",
    "    A[i][i-1] = 1\n",
    "for i in range (99):\n",
    "    A[i][i+1] = 1\n",
    "#print(A)\n",
    "x = sci.solve(A,f)\n",
    "\n",
    "\n",
    "print('\\nx = ',x)\n",
    "\n",
    "print('\\nerror:', sci.norm(np.dot(A,x)-f), '\\n')"
   ]
  }
 ],
 "metadata": {
  "kernelspec": {
   "display_name": "Python 3 (ipykernel)",
   "language": "python",
   "name": "python3"
  },
  "language_info": {
   "codemirror_mode": {
    "name": "ipython",
    "version": 3
   },
   "file_extension": ".py",
   "mimetype": "text/x-python",
   "name": "python",
   "nbconvert_exporter": "python",
   "pygments_lexer": "ipython3",
   "version": "3.11.1"
  }
 },
 "nbformat": 4,
 "nbformat_minor": 4
}
