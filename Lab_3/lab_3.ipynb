{
 "cells": [
  {
   "cell_type": "markdown",
   "metadata": {},
   "source": [
    "# Lab 3: Root Finding"
   ]
  },
  {
   "cell_type": "code",
   "execution_count": 6,
   "metadata": {},
   "outputs": [],
   "source": [
    "# IMPORTS\n",
    "import numpy as np\n",
    "import matplotlib.pyplot as plt"
   ]
  },
  {
   "cell_type": "markdown",
   "metadata": {},
   "source": [
    "## Trapezoidal and Simpson's Rules"
   ]
  },
  {
   "cell_type": "markdown",
   "metadata": {},
   "source": [
    "### Exercise 1\n",
    "\n",
    "#### Part 1 \n",
    "Write a function that compute the integral using the Trapezoidal Rule. The function should take in arguments $f$, $a$, $b$, and $n$ (the number of points) and return the approxiation of $\\int_a^b f(x)dx$."
   ]
  },
  {
   "cell_type": "code",
   "execution_count": 7,
   "metadata": {},
   "outputs": [],
   "source": [
    "def trap(f, a, b, n):\n",
    "    h = (b - a) / n\n",
    "    s = (f(a)+f(b)) / 2\n",
    "    for i in range(1, n):\n",
    "        s += f(a + (i*h))\n",
    "    s *= h \n",
    "    return (s)"
   ]
  },
  {
   "cell_type": "markdown",
   "metadata": {},
   "source": [
    "#### Part 2\n",
    "\n",
    "Test your trapezoid function by comparing the result from your trapezoid function and an integral that you know the exact value of. You should compute the trapezoid rule with different $n$ and see if you get closer the exact value the larger $n$ is."
   ]
  },
  {
   "cell_type": "code",
   "execution_count": 8,
   "metadata": {},
   "outputs": [
    {
     "name": "stdout",
     "output_type": "stream",
     "text": [
      "------------------------------------------------------------------------------------------\n",
      "The value of the integral when n = 40 is: \n",
      "0.8096455051000297\n"
     ]
    }
   ],
   "source": [
    "log = np.log\n",
    "f = lambda x: log(x) / (x + 1)\n",
    "\n",
    "\n",
    "print('------------------------------------------------------------------------------------------')\n",
    "test0 = trap(f, 2, 5, 40)\n",
    "print('The value of the integral when n = 40 is: ')\n",
    "print(test0)\n",
    "# e0 = np.abs(test0 - exact)\n",
    "# print(\"\\nThe error is: \", e0)\n",
    "\n",
    "\n",
    "\n",
    "\n",
    "\n",
    "# f = lambda x: x**2 + x**4 + 5\n",
    "# exact = 445.5333333333\n",
    "# print('------------------------------------------------------------------------------------------')\n",
    "\n",
    "\n",
    "# print('function is: x^2 + x^4 + 5. With a = 4 and b = 5.')\n",
    "# print('\\nThe exact value of the integral is 445.5333333\\n')\n",
    "\n",
    "# print('------------------------------------------------------------------------------------------')\n",
    "# test0 = trap(f, 4, 5, 10)\n",
    "# print('The value of the integral when n = 10 is: ')\n",
    "# print(test0)\n",
    "# e0 = np.abs(test0 - exact)\n",
    "# print(\"\\nThe error is: \", e0)\n",
    "\n",
    "\n",
    "\n",
    "\n",
    "# print('------------------------------------------------------------------------------------------')\n",
    "# test1 = trap(f, 4, 5, 15)\n",
    "# print('The value of the integral when n = 15 is: ')\n",
    "# print(test1)\n",
    "# e1 = np.abs(test1 - exact)\n",
    "# print(\"\\nThe error is: \", e1)\n",
    "\n",
    "\n",
    "\n",
    "\n",
    "\n",
    "# print('------------------------------------------------------------------------------------------')\n",
    "# test2 = trap(f, 4, 5, 100)\n",
    "# print('The value of the integral when n = 100 is: ')\n",
    "# print(test2)\n",
    "# e2 = np.abs(test2 - exact)\n",
    "# print(\"\\nThe error is: \", e2)\n",
    "\n",
    "\n",
    "\n",
    "\n",
    "\n",
    "# print('------------------------------------------------------------------------------------------')\n",
    "# test3 = trap(f, 4, 5, 300)\n",
    "# print('The value of the integral when n = 300 is: ')\n",
    "# print(test3)\n",
    "# e3 = np.abs(test3 - exact)\n",
    "# print(\"\\nThe error is: \", e3)\n",
    "\n",
    "\n",
    "\n",
    "# x_c = [10,15,100,300]\n",
    "# y_c = [e0,e1,e2,e3]\n",
    "# x = np.linspace(0,300,100)\n",
    "# plt.figure(1)\n",
    "# plt.clf()\n",
    "# # plt.plot(x,f(x),label=\"F(x)\")\n",
    "# plt.plot(x_c,y_c, label = 'error')\n",
    "# plt.legend()\n",
    "# plt.show()\n"
   ]
  },
  {
   "cell_type": "markdown",
   "metadata": {},
   "source": [
    "### Exercise 2\n",
    "\n",
    "#### Part 1\n",
    "Write a function that compute the integral using the  Simpson's Rule Rule. The function should take in arguments $f$, $a$, $b$, and $n$ (the number of points) and return the approxiation of $\\int_a^b f(x)dx$."
   ]
  },
  {
   "cell_type": "code",
   "execution_count": 85,
   "metadata": {},
   "outputs": [],
   "source": [
    "def simps(f,a,b,n):\n",
    "    h = (b-a)/n\n",
    "    s = 0.0\n",
    "    x = a + h\n",
    "    for i in range(1,n//2 + 1):\n",
    "        s += 4*f(x)\n",
    "        x += 2*h\n",
    "\n",
    "    x = a + 2*h\n",
    "    for i in range(1,n//2):\n",
    "        s += 2*f(x)\n",
    "        x += 2*h\n",
    "    return (h/3)*(f(a)+f(b)+s)"
   ]
  },
  {
   "cell_type": "markdown",
   "metadata": {},
   "source": [
    "#### Part 2\n",
    "\n",
    "Test your simpson function by comparing the result from your simpson function and an integral that you know the exact value of. You should compute the simpson rule with different $n$ and see if you get closer the exact value the larger $n$ is."
   ]
  },
  {
   "cell_type": "code",
   "execution_count": 90,
   "metadata": {},
   "outputs": [
    {
     "name": "stdout",
     "output_type": "stream",
     "text": [
      "function is: x^2 + x^4 + 5. With a = 4 and b = 5.\n",
      "\n",
      "The exact value of the integral is 445.5333333\n",
      "\n",
      "------------------------------------------------------------------------------------------\n",
      "The value of the integral when n = 50 is: \n",
      "445.53333335466675\n",
      "\n",
      "The error is:  2.1366759028751403e-08\n",
      "------------------------------------------------------------------------------------------\n",
      "The value of the integral when n = 100 is: \n",
      "445.5333333346624\n",
      "\n",
      "The error is:  1.3624230632558465e-09\n",
      "------------------------------------------------------------------------------------------\n",
      "The value of the integral when n = 200 is: \n",
      "445.53333333341226\n",
      "\n",
      "The error is:  1.1226575225009583e-10\n",
      "------------------------------------------------------------------------------------------\n",
      "The value of the integral when n = 300 is: \n",
      "445.5333333333546\n",
      "\n",
      "The error is:  5.46265255252365e-11\n",
      "------------------------------------------------------------------------------------------\n"
     ]
    },
    {
     "data": {
      "image/png": "[encoded data removed]",
      "text/plain": [
       "<Figure size 432x288 with 1 Axes>"
      ]
     },
     "metadata": {
      "needs_background": "light"
     },
     "output_type": "display_data"
    }
   ],
   "source": [
    "f = lambda x: x**2 + x**4 + 5\n",
    "\n",
    "print('function is: x^2 + x^4 + 5. With a = 4 and b = 5.')\n",
    "print('\\nThe exact value of the integral is 445.5333333\\n')\n",
    "\n",
    "print('------------------------------------------------------------------------------------------')\n",
    "\n",
    "t0 = simps(f, 4, 5, 50)\n",
    "print('The value of the integral when n = 50 is: ')\n",
    "print(t0)\n",
    "er0 = np.abs(t0 - exact)\n",
    "print(\"\\nThe error is: \", er0)\n",
    "\n",
    "print('------------------------------------------------------------------------------------------')\n",
    "\n",
    "t1 = simps(f, 4, 5, 100)\n",
    "print('The value of the integral when n = 100 is: ')\n",
    "print(t1)\n",
    "er1 = np.abs(t1 - exact)\n",
    "print(\"\\nThe error is: \", er1)\n",
    "\n",
    "print('------------------------------------------------------------------------------------------')\n",
    "\n",
    "t2 = simps(f, 4, 5, 200)\n",
    "print('The value of the integral when n = 200 is: ')\n",
    "print(t2)\n",
    "er2 = np.abs(t2 - exact)\n",
    "print(\"\\nThe error is: \", er2)\n",
    "\n",
    "print('------------------------------------------------------------------------------------------')\n",
    "\n",
    "t3 = simps(f, 4, 5, 300)\n",
    "print('The value of the integral when n = 300 is: ')\n",
    "print(t3)\n",
    "er3 = np.abs(t3 - exact)\n",
    "print(\"\\nThe error is: \", er3)\n",
    "\n",
    "print('------------------------------------------------------------------------------------------')\n",
    "\n",
    "\n",
    "x_c_1 = [50,100,200,300]\n",
    "y_c_1 = [er0,er1,er2,er3]\n",
    "x = np.linspace(0,300,100)\n",
    "plt.figure(1)\n",
    "plt.clf()\n",
    "# plt.plot(x,f(x),label=\"F(x)\")\n",
    "plt.plot(x_c_1,y_c_1, label = 'error')\n",
    "plt.legend()\n",
    "plt.show()\n"
   ]
  },
  {
   "cell_type": "markdown",
   "metadata": {},
   "source": [
    "### Exercise 3\n",
    "\n",
    "Use the Trapezoidal Rule and Simpson's Rule with $n=50$ to find approximate values of the following integrals.\n",
    "1. $\\int_0^{5} e^{\\frac{x^2}{6}} dx$, \n",
    "2. $\\int_0^{\\pi} x^{\\pi}\\cos(\\sqrt{x}) dx$, \n",
    "3. $\\int_0^{1} \\sqrt{x^5+e^{3x}} dx$, "
   ]
  },
  {
   "cell_type": "code",
   "execution_count": 89,
   "metadata": {},
   "outputs": [
    {
     "name": "stdout",
     "output_type": "stream",
     "text": [
      "First integral!: \n",
      "\n",
      "Using the trapezoidal rule: \n",
      "\n",
      "46.39016606124605\n",
      "\n",
      "Using the simpsons rule: \n",
      "\n",
      "46.300863237372454\n",
      "--------------------------------------------------------------------------------------------\n",
      "Second integral!: \n",
      "\n",
      "Using the trapezoidal rule: \n",
      "\n",
      "7.983888640763751\n",
      "\n",
      "Using the simpson rule: \n",
      "\n",
      "7.989882446796287\n",
      "---------------------------------------------------------------------------------------------\n",
      "Third integral!: \n",
      "\n",
      "Using the trapezoidal rule: \n",
      "\n",
      "3.2652937001257336\n",
      "\n",
      "Using the simpson rule: \n",
      "\n",
      "3.264256409459606\n"
     ]
    }
   ],
   "source": [
    "e = np.exp\n",
    "pi = np.pi\n",
    "cos = np.cos\n",
    "\n",
    "\n",
    "\n",
    "print(\"First integral!: \\n\")\n",
    "f = lambda x: e((x**2)/6)\n",
    "traptest0 = trap(f, 0, 5, 50)\n",
    "print('Using the trapezoidal rule: \\n')\n",
    "print(traptest0)\n",
    "\n",
    "f = lambda x: e((x**2)/6)\n",
    "simpstest0 = simps(f, 0, 5, 50)\n",
    "print('\\nUsing the simpsons rule: \\n')\n",
    "print(simpstest0)\n",
    "\n",
    "\n",
    "print('--------------------------------------------------------------------------------------------')\n",
    "\n",
    "print(\"Second integral!: \\n\")\n",
    "f = lambda x: (x**pi)*(cos(x**1/2))\n",
    "traptest1 = trap(f, 0, pi, 50)\n",
    "print('Using the trapezoidal rule: \\n')\n",
    "print(traptest1)\n",
    "\n",
    "f = lambda x: (x**pi)*(cos(x**1/2))\n",
    "simpstest1 = simps(f, 0, pi, 50)\n",
    "print('\\nUsing the simpson rule: \\n')\n",
    "print(simpstest1)\n",
    "\n",
    "\n",
    "print('---------------------------------------------------------------------------------------------')\n",
    "\n",
    "print(\"Third integral!: \\n\")\n",
    "f = lambda x: ((x**5 + e(3*x))**1/2)\n",
    "traptest2 = trap(f, 0, 1, 50)\n",
    "print('Using the trapezoidal rule: \\n')\n",
    "print(traptest2)\n",
    "\n",
    "f = lambda x: ((x**5 + e(3*x))**1/2)\n",
    "simpstest2 = simps(f, 0, 1, 50)\n",
    "print('\\nUsing the simpson rule: \\n')\n",
    "print(simpstest2)"
   ]
  },
  {
   "cell_type": "markdown",
   "metadata": {},
   "source": [
    "### Exercise 4\n",
    "\n",
    "Without using $e^x$ or $\\log(x)$ find the value of $\\log(5)$ using the simpson or trapezoilda rule"
   ]
  },
  {
   "cell_type": "code",
   "execution_count": 87,
   "metadata": {},
   "outputs": [
    {
     "name": "stdout",
     "output_type": "stream",
     "text": [
      "\n",
      "the value of log(5) or (ln(5)) using trapezoidal method is: \n",
      " 1.6094521343933919\n"
     ]
    }
   ],
   "source": [
    "f = lambda x: 1 / x\n",
    "trapExer4 = trap(f,1,5,300)\n",
    "print('\\nthe value of log(5) or (ln(5)) using trapezoidal method is: \\n',trapExer4)"
   ]
  },
  {
   "cell_type": "markdown",
   "metadata": {},
   "source": [
    "#### Exercise 5\n",
    "\n",
    "Using the trapezoidal or simpson rule. Compute the area of the half circle of radius 1."
   ]
  },
  {
   "cell_type": "code",
   "execution_count": 88,
   "metadata": {},
   "outputs": [
    {
     "name": "stdout",
     "output_type": "stream",
     "text": [
      "\n",
      "The area computed for semi-cirlce is: \n",
      " 1.570476330390523\n"
     ]
    }
   ],
   "source": [
    "f = lambda x: ((1-(x**2))**.5)\n",
    "trapExer5 = trap(f, -1, 1, 300)\n",
    "print ('\\nThe area computed for semi-cirlce is: \\n',trapExer5)"
   ]
  },
  {
   "cell_type": "markdown",
   "metadata": {},
   "source": [
    "## Numerical Derivatives"
   ]
  },
  {
   "cell_type": "markdown",
   "metadata": {},
   "source": [
    "### Exercise 6\n",
    "\n",
    "In the following instances, find the numerical derivative of $e^{x^2}$ at $x=0$, using the backward, forward, and centered formula with $h=0.05$. Then for each approximation compute the error and  **specify which one is more accurate.**"
   ]
  },
  {
   "cell_type": "code",
   "execution_count": 1,
   "metadata": {},
   "outputs": [],
   "source": [
    "def forward(f,x,h):\n",
    "    r = (f(x + h) - f(x)) / (h)\n",
    "    return r\n",
    "    \n",
    "\n",
    "def center(f,x,h):\n",
    "    re = (f(x+h) - f(x - h)) / (2 * h)\n",
    "    return re\n",
    "\n",
    "\n",
    "def backward(f,x,h):\n",
    "    res = (f(x) - f(x - h)) / (h)\n",
    "    return res"
   ]
  },
  {
   "cell_type": "code",
   "execution_count": 4,
   "metadata": {},
   "outputs": [
    {
     "name": "stdout",
     "output_type": "stream",
     "text": [
      "The numerical derivative at the indicated point using the forward formula is:  0.05006255211590371\n",
      "\n",
      "The error is:  0.05006255211590371\n",
      "\n",
      "----------------------------------------------------------------------------------------\n",
      "\n",
      "The numerical derivative at the indicated point using the center formula is:  0.0\n",
      "\n",
      "The error is:  0.0\n",
      "\n",
      "----------------------------------------------------------------------------------------\n",
      "\n",
      "The numerical derivative at the indicated point using the backward formula is:  -0.05006255211590371\n",
      "\n",
      "The error is:  0.05006255211590371\n",
      "\n",
      "----------------------------------------------------------------------------------------\n",
      "\n",
      "The most accurate is the numerical derivative at the indicated point using the center formula because this is where the err-or is 0.\n"
     ]
    },
    {
     "data": {
      "image/png": "[encoded data removed]",
      "text/plain": [
       "<Figure size 432x288 with 1 Axes>"
      ]
     },
     "metadata": {
      "needs_background": "light"
     },
     "output_type": "display_data"
    }
   ],
   "source": [
    "\n",
    "f = lambda x: np.exp(x**2)\n",
    "exact1 = 0\n",
    "k = 0.05\n",
    "\n",
    "\n",
    "firstE = forward(f,0,0.05) \n",
    "print(\"The numerical derivative at the indicated point using the forward formula is: \",firstE)\n",
    "ero1 = np.abs(exact1 - firstE)\n",
    "print(\"\\nThe error is: \", ero1)\n",
    "\n",
    "\n",
    "print(\"\\n----------------------------------------------------------------------------------------\")\n",
    "\n",
    "secondE = center(f,0,0.05)\n",
    "print(\"\\nThe numerical derivative at the indicated point using the center formula is: \",secondE)\n",
    "ero2 = np.abs(exact1 - secondE) \n",
    "print(\"\\nThe error is: \", ero2)\n",
    "\n",
    "\n",
    "print(\"\\n----------------------------------------------------------------------------------------\")\n",
    "\n",
    "thirdE = backward(f,0,0.05)\n",
    "print(\"\\nThe numerical derivative at the indicated point using the backward formula is: \",thirdE)\n",
    "ero3 = np.abs(exact1 - thirdE)\n",
    "print(\"\\nThe error is: \", ero3)\n",
    "\n",
    "print(\"\\n----------------------------------------------------------------------------------------\")\n",
    "\n",
    "print(\"\\nThe most accurate is the numerical derivative at the indicated point using the center formula because this is where the err-or is 0.\")\n",
    "\n",
    "\n",
    "x_c_2 = [0,0,0]\n",
    "y_c_2 = [ero1,ero2,ero3]\n",
    "x = np.linspace(0,1,100)\n",
    "plt.figure(1)\n",
    "plt.clf()\n",
    "# plt.plot(x,f(x),label=\"F(x)\")\n",
    "plt.plot(x_c_2,y_c_2, label = 'error')\n",
    "plt.legend()\n",
    "plt.show()"
   ]
  },
  {
   "cell_type": "markdown",
   "metadata": {},
   "source": [
    "#### Exercise 7\n",
    "\n",
    "In the following instances, find the numerical derivative at the indicated point, using the backward, forward, and centered formula. Use $h=0.05$.\n",
    " \n",
    "1.  $\\tan^{-1}(x^2)$ at $x=\\frac{1}{2}$.\n",
    "2. $\\sqrt{1+\\cos^2(x)}$ at $x=\\pi$."
   ]
  },
  {
   "cell_type": "code",
   "execution_count": 93,
   "metadata": {},
   "outputs": [
    {
     "name": "stdout",
     "output_type": "stream",
     "text": [
      "This is for the first instance: \n",
      "\n",
      "\n",
      "The numerical derivative at the indicated point using the forward formula is: \n",
      " 0.9754025650863501\n",
      "\n",
      "The numerical derivative at the indicated point using the center formula is: \n",
      " 0.9395054514086687\n",
      "\n",
      "The numerical derivative at the indicated point using the backward formula is: \n",
      " 0.9036083377309873\n",
      "\n",
      "----------------------------------------------------------------------------------------\n",
      "\n",
      "This is for the second instance: \n",
      "\n",
      "The numerical derivative at the indicated point using the forward formula is: \n",
      " -0.024979173609871452\n",
      "\n",
      "The numerical derivative at the indicated point using the center formula is: \n",
      " 0.0\n",
      "\n",
      "The numerical derivative at the indicated point using the backward formula is: \n",
      " 0.024979173609871452\n"
     ]
    }
   ],
   "source": [
    "tan = np.arctan\n",
    "pi = np.pi\n",
    "cos = np.cos\n",
    "\n",
    "print(\"This is for the first instance: \\n\")\n",
    "f = lambda x: tan(x**2)\n",
    "firstTan = forward(f,(1/2),0.05)\n",
    "print(\"\\nThe numerical derivative at the indicated point using the forward formula is: \\n\",firstTan)\n",
    "secondTan = center(f,(1/2),0.05)\n",
    "print (\"\\nThe numerical derivative at the indicated point using the center formula is: \\n\",secondTan)\n",
    "thirdTan = backward(f,(1/2),0.05)\n",
    "print (\"\\nThe numerical derivative at the indicated point using the backward formula is: \\n\",thirdTan)\n",
    "\n",
    "\n",
    "\n",
    "print(\"\\n----------------------------------------------------------------------------------------\")\n",
    "\n",
    "print(\"\\nThis is for the second instance: \")\n",
    "f = lambda x: ((1 + cos(x)**2)**1/2)\n",
    "firstCos = forward(f,pi,0.05)\n",
    "print (\"\\nThe numerical derivative at the indicated point using the forward formula is: \\n\",firstCos)\n",
    "secondCos = center(f,pi,0.05)\n",
    "print(\"\\nThe numerical derivative at the indicated point using the center formula is: \\n\",secondCos)\n",
    "thirdCos = backward(f,pi,0.05)\n",
    "print (\"\\nThe numerical derivative at the indicated point using the backward formula is: \\n\",thirdCos)\n",
    "\n",
    " "
   ]
  }
 ],
 "metadata": {
  "kernelspec": {
   "display_name": "Python 3 (ipykernel)",
   "language": "python",
   "name": "python3"
  },
  "language_info": {
   "codemirror_mode": {
    "name": "ipython",
    "version": 3
   },
   "file_extension": ".py",
   "mimetype": "text/x-python",
   "name": "python",
   "nbconvert_exporter": "python",
   "pygments_lexer": "ipython3",
   "version": "3.11.1"
  }
 },
 "nbformat": 4,
 "nbformat_minor": 4
}
